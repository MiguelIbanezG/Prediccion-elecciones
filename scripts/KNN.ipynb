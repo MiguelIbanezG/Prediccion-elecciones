{
 "cells": [
  {
   "cell_type": "code",
   "execution_count": null,
   "id": "4e198768",
   "metadata": {
    "vscode": {
     "languageId": "plaintext"
    }
   },
   "outputs": [],
   "source": [
    "import numpy as np\n",
    "import pandas as pd\n",
    "from sklearn.metrics import confusion_matrix, accuracy_score, classification_report\n",
    "from sklearn.neighbors import KNeighborsClassifier\n",
    "from sklearn.model_selection import train_test_split\n",
    "from datetime import datetime\n",
    "import matplotlib.pyplot as plt\n",
    "import seaborn as sns\n"
   ]
  },
  {
   "cell_type": "code",
   "execution_count": null,
   "id": "2f26afb7",
   "metadata": {
    "vscode": {
     "languageId": "plaintext"
    }
   },
   "outputs": [],
   "source": [
    "# --- Función de carga y preprocesamiento de datos ---\n",
    "def carga_datos_csv(data, categoria, porcentaje_test=0.25, hot_encoded=None, normalizados=None, seed=None):\n",
    "    # Normalización\n",
    "    if normalizados:\n",
    "        for col in normalizados:\n",
    "            if col in data.columns:\n",
    "                data[col] = (data[col] - data[col].min()) / (data[col].max() - data[col].min())\n",
    "\n",
    "    # Dividir en train y test\n",
    "    train, test = train_test_split(data, test_size=porcentaje_test, random_state=seed)\n",
    "\n",
    "    # Separar etiquetas\n",
    "    label_train = train[categoria].copy()\n",
    "    label_test = test[categoria].copy()\n",
    "    train = train.drop(columns=[categoria])\n",
    "    test = test.drop(columns=[categoria])\n",
    "\n",
    "    # One-hot encoding\n",
    "    if hot_encoded:\n",
    "        full_data = pd.concat([train, test])\n",
    "        full_data = pd.get_dummies(full_data, columns=hot_encoded)\n",
    "\n",
    "        train = full_data.iloc[:len(train), :]\n",
    "        test = full_data.iloc[len(train):, :]\n",
    "\n",
    "    # Alinear columnas\n",
    "    test = test.reindex(columns=train.columns, fill_value=0)\n",
    "\n",
    "    return train.columns, np.array(train), np.array(label_train), np.array(test), np.array(label_test)"
   ]
  },
  {
   "cell_type": "code",
   "execution_count": null,
   "id": "4bc93e8d",
   "metadata": {
    "vscode": {
     "languageId": "plaintext"
    }
   },
   "outputs": [],
   "source": [
    "# --- Configuración ---\n",
    "dataset = 'dataset_v1.csv'  # Ruta al CSV\n",
    "n_neighbors = 7\n",
    "metric = 'euclidean'\n",
    "label = 'Candidatura Ganadora'\n",
    "\n",
    "# Columnas categóricas y numéricas\n",
    "hot = ['Comunidad', 'Provincia', 'Gobierno Actual de Comunidad', 'Gobierno Actual de España']\n",
    "norm = ['Edad Media', 'Escolarizacion', 'Esperanza de Vida', 'Habitantes Provincia',\n",
    "        'Acceso a Internet', 'PIB per capita', 'Criminalidad', 'Inmigracion',\n",
    "        '% de mujeres', 'Tasa de Pobreza', 'Tasa Desempleo']\n"
   ]
  },
  {
   "cell_type": "code",
   "execution_count": null,
   "id": "ee0e5795",
   "metadata": {
    "vscode": {
     "languageId": "plaintext"
    }
   },
   "outputs": [],
   "source": [
    "# --- Carga y preparación de datos ---\n",
    "data = pd.read_csv(dataset, sep=',')\n",
    "data = data.dropna(subset=[label])  # Asegurar que hay etiquetas\n",
    "\n",
    "x_columns, x_train, y_train, x_test, y_test = carga_datos_csv(\n",
    "    data, label, porcentaje_test=0.25, hot_encoded=hot, normalizados=norm, seed=int(datetime.utcnow().timestamp())\n",
    ")\n"
   ]
  },
  {
   "cell_type": "code",
   "execution_count": null,
   "id": "dbe4535f",
   "metadata": {
    "vscode": {
     "languageId": "plaintext"
    }
   },
   "outputs": [],
   "source": [
    "# --- Resultados ---\n",
    "np.set_printoptions(threshold=np.inf)\n",
    "\n",
    "print(\"\\nMatriz de confusión:\")\n",
    "labels = sorted(np.unique(np.concatenate([y_test, y_pred])))\n",
    "cm = confusion_matrix(y_test, y_pred, labels=labels)\n",
    "print(cm)\n",
    "\n",
    "print(\"\\nPrecisión global:\")\n",
    "print(accuracy_score(y_test, y_pred))\n",
    "\n",
    "print(\"\\nInforme de clasificación:\")\n",
    "print(classification_report(y_test, y_pred, zero_division=0))"
   ]
  },
  {
   "cell_type": "code",
   "execution_count": null,
   "id": "e3826acc",
   "metadata": {
    "vscode": {
     "languageId": "plaintext"
    }
   },
   "outputs": [],
   "source": [
    "# --- Visualización de la matriz de confusión ---\n",
    "plt.figure(figsize=(10, 8))\n",
    "sns.heatmap(cm, annot=True, fmt='d', cmap='Blues',\n",
    "            xticklabels=labels, yticklabels=labels)\n",
    "plt.xlabel('Predicción')\n",
    "plt.ylabel('Valor real')\n",
    "plt.title('Matriz de confusión - KNN')\n",
    "plt.tight_layout()\n",
    "plt.show()"
   ]
  }
 ],
 "metadata": {
  "language_info": {
   "name": "python"
  }
 },
 "nbformat": 4,
 "nbformat_minor": 5
}
